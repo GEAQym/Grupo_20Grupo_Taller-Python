{
  "cells": [
    {
      "cell_type": "markdown",
      "metadata": {
        "id": "view-in-github",
        "colab_type": "text"
      },
      "source": [
        "<a href=\"https://colab.research.google.com/github/GEAQym/Grupo_20Grupo_Taller-Python/blob/main/GRUPO_20_Tarea1.ipynb\" target=\"_parent\"><img src=\"https://colab.research.google.com/assets/colab-badge.svg\" alt=\"Open In Colab\"/></a>"
      ]
    },
    {
      "cell_type": "markdown",
      "id": "72a92c48-3c7d-48a3-8acd-ea8c61be7351",
      "metadata": {
        "id": "72a92c48-3c7d-48a3-8acd-ea8c61be7351"
      },
      "source": [
        "# Tarea 1"
      ]
    },
    {
      "cell_type": "markdown",
      "id": "f09ec788-a488-47e3-88d0-975f9da0df16",
      "metadata": {
        "id": "f09ec788-a488-47e3-88d0-975f9da0df16"
      },
      "source": [
        "### Pregunta 1"
      ]
    },
    {
      "cell_type": "code",
      "execution_count": null,
      "id": "7afb8d61-d720-415d-afbb-105bceea19e3",
      "metadata": {
        "colab": {
          "base_uri": "https://localhost:8080/"
        },
        "id": "7afb8d61-d720-415d-afbb-105bceea19e3",
        "outputId": "176c4440-74cc-4e21-ed79-db0961a6faa1"
      },
      "outputs": [
        {
          "output_type": "stream",
          "name": "stdout",
          "text": [
            "Es múltiplo de 2 y 3\n"
          ]
        }
      ],
      "source": [
        "X=6\n",
        "\n",
        "if X%2==0 and X%3==0:\n",
        "    print(\"Es múltiplo de 2 y 3\")\n",
        "elif X%2==0:\n",
        "    print(\"Es múltiplo de 2\")\n",
        "elif X%3==0:\n",
        "    print(\"Es múltiplo de 3\")\n",
        "else:\n",
        "    print(\"Otro caso\")"
      ]
    },
    {
      "cell_type": "markdown",
      "id": "d4b5584a-9618-4771-9117-dfcf3de79151",
      "metadata": {
        "id": "d4b5584a-9618-4771-9117-dfcf3de79151"
      },
      "source": [
        "### Pregunta 2"
      ]
    },
    {
      "cell_type": "code",
      "execution_count": null,
      "id": "fb81051b-3fa8-44b0-b190-1cadeb09c3f5",
      "metadata": {
        "colab": {
          "base_uri": "https://localhost:8080/"
        },
        "id": "fb81051b-3fa8-44b0-b190-1cadeb09c3f5",
        "outputId": "0abf63bc-0a7a-400e-ac0b-aa8e63941be9"
      },
      "outputs": [
        {
          "output_type": "stream",
          "name": "stdout",
          "text": [
            "[1, 2, 3, 4, 5, 6, 7, 8, 9, 10, 11, 12, 13, 14, 15, 16, 17, 18, 19, 20, 21, 22, 23, 24, 25, 26, 27, 28, 29, 30, 31, 32, 33, 34, 35, 36, 37, 38, 39, 40, 41, 42, 43, 44, 45, 46, 47, 48, 49, 50, 51, 52, 53, 54, 55, 56, 57, 58, 59, 60, 61, 62, 63, 64, 65, 66, 67, 68, 69, 70, 71, 72, 73, 74, 75, 76, 77, 78, 79, 80, 81, 82, 83, 84, 85, 86, 87, 88, 89, 90, 91, 92, 93, 94, 95, 96, 97, 98, 99, 100]\n"
          ]
        }
      ],
      "source": [
        "lista = list(range(1, 101))\n",
        "print(lista)"
      ]
    },
    {
      "cell_type": "code",
      "execution_count": null,
      "id": "2dfd8610-2072-4b9e-9a1e-0c3a7ea9f967",
      "metadata": {
        "colab": {
          "base_uri": "https://localhost:8080/"
        },
        "id": "2dfd8610-2072-4b9e-9a1e-0c3a7ea9f967",
        "outputId": "426c4cee-2284-43ab-af1c-d016da151bd5"
      },
      "outputs": [
        {
          "output_type": "stream",
          "name": "stdout",
          "text": [
            "1\n",
            "2\n",
            "Fizz\n",
            "4\n",
            "Buzz\n",
            "Fizz\n",
            "7\n",
            "8\n",
            "Fizz\n",
            "Buzz\n",
            "11\n",
            "Fizz\n",
            "13\n",
            "14\n",
            "FizzBuzz\n",
            "16\n",
            "17\n",
            "Fizz\n",
            "19\n",
            "Buzz\n",
            "Fizz\n",
            "22\n",
            "23\n",
            "Fizz\n",
            "Buzz\n",
            "26\n",
            "Fizz\n",
            "28\n",
            "29\n",
            "FizzBuzz\n",
            "31\n",
            "32\n",
            "Fizz\n",
            "34\n",
            "Buzz\n",
            "Fizz\n",
            "37\n",
            "38\n",
            "Fizz\n",
            "Buzz\n",
            "41\n",
            "Fizz\n",
            "43\n",
            "44\n",
            "FizzBuzz\n",
            "46\n",
            "47\n",
            "Fizz\n",
            "49\n",
            "Buzz\n",
            "Fizz\n",
            "52\n",
            "53\n",
            "Fizz\n",
            "Buzz\n",
            "56\n",
            "Fizz\n",
            "58\n",
            "59\n",
            "FizzBuzz\n",
            "61\n",
            "62\n",
            "Fizz\n",
            "64\n",
            "Buzz\n",
            "Fizz\n",
            "67\n",
            "68\n",
            "Fizz\n",
            "Buzz\n",
            "71\n",
            "Fizz\n",
            "73\n",
            "74\n",
            "FizzBuzz\n",
            "76\n",
            "77\n",
            "Fizz\n",
            "79\n",
            "Buzz\n",
            "Fizz\n",
            "82\n",
            "83\n",
            "Fizz\n",
            "Buzz\n",
            "86\n",
            "Fizz\n",
            "88\n",
            "89\n",
            "FizzBuzz\n",
            "91\n",
            "92\n",
            "Fizz\n",
            "94\n",
            "Buzz\n",
            "Fizz\n",
            "97\n",
            "98\n",
            "Fizz\n",
            "Buzz\n"
          ]
        }
      ],
      "source": [
        "for x in lista:\n",
        "    if x%3==0 and x%5==0:\n",
        "        print(\"FizzBuzz\")\n",
        "    elif x%3==0:\n",
        "        print(\"Fizz\")\n",
        "    elif x%5==0:\n",
        "        print(\"Buzz\")\n",
        "    else:\n",
        "        print(x)"
      ]
    },
    {
      "cell_type": "markdown",
      "id": "c969de22-2048-4b91-9e78-714a67a98b8f",
      "metadata": {
        "id": "c969de22-2048-4b91-9e78-714a67a98b8f"
      },
      "source": [
        "### Pregunta 3"
      ]
    },
    {
      "cell_type": "code",
      "execution_count": null,
      "id": "7e337cfb-7296-49a9-8802-828f191d84a2",
      "metadata": {
        "id": "7e337cfb-7296-49a9-8802-828f191d84a2"
      },
      "outputs": [],
      "source": [
        "def calcular_decuento(x):\n",
        "    if x>=1000:\n",
        "        print(x*80/100)\n",
        "    elif x>=500 and x<1000:\n",
        "        print(x*90/100)\n",
        "    elif x<500:\n",
        "        print(x)"
      ]
    },
    {
      "cell_type": "code",
      "execution_count": null,
      "id": "1bf221b8-27e8-4137-b0b1-37d62b4b84a6",
      "metadata": {
        "colab": {
          "base_uri": "https://localhost:8080/"
        },
        "id": "1bf221b8-27e8-4137-b0b1-37d62b4b84a6",
        "outputId": "724e4ac4-df26-4d7d-c248-8931a1dc77d3"
      },
      "outputs": [
        {
          "output_type": "stream",
          "name": "stdout",
          "text": [
            "960.0\n"
          ]
        }
      ],
      "source": [
        "calcular_decuento(1200)"
      ]
    },
    {
      "cell_type": "code",
      "execution_count": null,
      "id": "15a18717-e82a-40dd-a373-414cc4796a0f",
      "metadata": {
        "colab": {
          "base_uri": "https://localhost:8080/"
        },
        "id": "15a18717-e82a-40dd-a373-414cc4796a0f",
        "outputId": "ee7d496d-fe48-4fae-cd73-ef461d618e0b"
      },
      "outputs": [
        {
          "output_type": "stream",
          "name": "stdout",
          "text": [
            "675.0\n"
          ]
        }
      ],
      "source": [
        "calcular_decuento(750)"
      ]
    },
    {
      "cell_type": "code",
      "execution_count": null,
      "id": "4b598a12-36ba-4378-8747-e2b2c9e30b41",
      "metadata": {
        "colab": {
          "base_uri": "https://localhost:8080/"
        },
        "id": "4b598a12-36ba-4378-8747-e2b2c9e30b41",
        "outputId": "0bdc7ed2-0da4-419a-ae92-e51ba6fbba59"
      },
      "outputs": [
        {
          "output_type": "stream",
          "name": "stdout",
          "text": [
            "300\n"
          ]
        }
      ],
      "source": [
        "calcular_decuento(300)"
      ]
    },
    {
      "cell_type": "markdown",
      "id": "b757b77f-d436-4a8d-a0b4-2fae7e4b5440",
      "metadata": {
        "id": "b757b77f-d436-4a8d-a0b4-2fae7e4b5440"
      },
      "source": [
        "### Pregunta 4"
      ]
    },
    {
      "cell_type": "code",
      "execution_count": null,
      "id": "a39ca9fe-782e-4c11-b69f-84f89cb3d113",
      "metadata": {
        "id": "a39ca9fe-782e-4c11-b69f-84f89cb3d113"
      },
      "outputs": [],
      "source": [
        "def clasificar_edad(x):\n",
        "    if x<12:\n",
        "        print(\"Niño\")\n",
        "    elif x>=12 and x<=17:\n",
        "        print(\"Adolescente\")\n",
        "    elif x>=18 and x<=24:\n",
        "        print(\"Joven\")\n",
        "    elif x>=25 and x<=64:\n",
        "        print(\"Adulto\")\n",
        "    elif x>=65:\n",
        "        print(\"Adulto mayor\")"
      ]
    },
    {
      "cell_type": "code",
      "execution_count": null,
      "id": "4cfd9d73-26de-45aa-bba3-4f016d8b200a",
      "metadata": {
        "colab": {
          "base_uri": "https://localhost:8080/"
        },
        "id": "4cfd9d73-26de-45aa-bba3-4f016d8b200a",
        "outputId": "cf395f9d-f043-4852-f1e0-45eef2d98c2b"
      },
      "outputs": [
        {
          "output_type": "stream",
          "name": "stdout",
          "text": [
            "Niño\n"
          ]
        }
      ],
      "source": [
        "clasificar_edad(10)"
      ]
    },
    {
      "cell_type": "code",
      "execution_count": null,
      "id": "6c2fb7bf-2ebc-4b2f-8d29-efae02216eef",
      "metadata": {
        "colab": {
          "base_uri": "https://localhost:8080/"
        },
        "id": "6c2fb7bf-2ebc-4b2f-8d29-efae02216eef",
        "outputId": "92a94838-a740-498c-a6f4-22582bf6b527"
      },
      "outputs": [
        {
          "output_type": "stream",
          "name": "stdout",
          "text": [
            "Joven\n"
          ]
        }
      ],
      "source": [
        "clasificar_edad(19)"
      ]
    },
    {
      "cell_type": "code",
      "execution_count": null,
      "id": "8028fa62-f528-40bf-a22f-29b41a667781",
      "metadata": {
        "colab": {
          "base_uri": "https://localhost:8080/"
        },
        "id": "8028fa62-f528-40bf-a22f-29b41a667781",
        "outputId": "ff9bd97f-1098-4135-a4c5-52512cc14d5f"
      },
      "outputs": [
        {
          "output_type": "stream",
          "name": "stdout",
          "text": [
            "Adulto\n"
          ]
        }
      ],
      "source": [
        "clasificar_edad(25)"
      ]
    },
    {
      "cell_type": "code",
      "execution_count": null,
      "id": "12e98f66-3e0c-4313-b6c0-65076b5d538b",
      "metadata": {
        "colab": {
          "base_uri": "https://localhost:8080/"
        },
        "id": "12e98f66-3e0c-4313-b6c0-65076b5d538b",
        "outputId": "8e82be65-f2bf-4769-bfe5-5a18cffcaf50"
      },
      "outputs": [
        {
          "output_type": "stream",
          "name": "stdout",
          "text": [
            "Adulto mayor\n"
          ]
        }
      ],
      "source": [
        "clasificar_edad(70)"
      ]
    },
    {
      "cell_type": "markdown",
      "id": "b8daabd5-8c7e-448f-af2d-b6989474c40d",
      "metadata": {
        "id": "b8daabd5-8c7e-448f-af2d-b6989474c40d"
      },
      "source": [
        "### Pregunta 5"
      ]
    },
    {
      "cell_type": "code",
      "execution_count": null,
      "id": "8eb549bf-7f9d-400b-8e88-f23d0b2bb993",
      "metadata": {
        "id": "8eb549bf-7f9d-400b-8e88-f23d0b2bb993"
      },
      "outputs": [],
      "source": [
        "def calcular_craest(media_personal,media_curso,desviación_curso):\n",
        "\n",
        "  \"\"\" Parámetros:\n",
        "    media_personal (float): La media de calificaciones del estudiante.\n",
        "    media_curso (float): La media de calificaciones del curso.\n",
        "    desviacion_curso (float): La desviación estándar de las calificaciones del curso.\n",
        "\n",
        "    Retorna:\n",
        "    float: El valor del CRAEst calculado.\n",
        "\"\"\"\n",
        "  craest = (((media_personal - media_curso)*10)/desviación_curso +50)\n",
        "  return craest"
      ]
    },
    {
      "cell_type": "code",
      "execution_count": null,
      "id": "9d8f63f2-2b1a-40a3-b8a0-f5c51d09e682",
      "metadata": {
        "colab": {
          "base_uri": "https://localhost:8080/"
        },
        "id": "9d8f63f2-2b1a-40a3-b8a0-f5c51d09e682",
        "outputId": "7deb95e1-3558-47f4-852e-7c97165b7169"
      },
      "outputs": [
        {
          "output_type": "execute_result",
          "data": {
            "text/plain": [
              "47.142857142857146"
            ]
          },
          "metadata": {},
          "execution_count": 68
        }
      ],
      "source": [
        "calcular_craest(14,15,3.5)"
      ]
    },
    {
      "cell_type": "code",
      "execution_count": null,
      "id": "6b7584ca-79f5-463a-be31-fa04f6f78f22",
      "metadata": {
        "colab": {
          "base_uri": "https://localhost:8080/"
        },
        "id": "6b7584ca-79f5-463a-be31-fa04f6f78f22",
        "outputId": "9aeab3fa-076b-41e4-c8c4-6b7524eee60a"
      },
      "outputs": [
        {
          "output_type": "execute_result",
          "data": {
            "text/plain": [
              "47.142857142857146"
            ]
          },
          "metadata": {},
          "execution_count": 69
        }
      ],
      "source": [
        "#Corroboración\n",
        "((14-15)*10)/3.5+50"
      ]
    },
    {
      "cell_type": "code",
      "execution_count": null,
      "id": "97d1560c-fae6-4208-8a9c-b0ea3b8b9496",
      "metadata": {
        "id": "97d1560c-fae6-4208-8a9c-b0ea3b8b9496"
      },
      "outputs": [],
      "source": []
    }
  ],
  "metadata": {
    "kernelspec": {
      "display_name": "Python 3 (ipykernel)",
      "language": "python",
      "name": "python3"
    },
    "language_info": {
      "codemirror_mode": {
        "name": "ipython",
        "version": 3
      },
      "file_extension": ".py",
      "mimetype": "text/x-python",
      "name": "python",
      "nbconvert_exporter": "python",
      "pygments_lexer": "ipython3",
      "version": "3.11.7"
    },
    "colab": {
      "provenance": [],
      "include_colab_link": true
    }
  },
  "nbformat": 4,
  "nbformat_minor": 5
}